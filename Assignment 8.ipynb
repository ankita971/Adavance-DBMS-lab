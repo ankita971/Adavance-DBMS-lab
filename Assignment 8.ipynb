{
 "cells": [
  {
   "cell_type": "code",
   "execution_count": 1,
   "metadata": {},
   "outputs": [],
   "source": [
    "import pymongo\n",
    "client=pymongo.MongoClient(\"mongodb://localhost:27017\")\n",
    "db=client.test"
   ]
  },
  {
   "cell_type": "code",
   "execution_count": 2,
   "metadata": {},
   "outputs": [],
   "source": [
    "db=client['Bakadb']"
   ]
  },
  {
   "cell_type": "code",
   "execution_count": 3,
   "metadata": {},
   "outputs": [],
   "source": [
    "collection = db[\"Student\"]"
   ]
  },
  {
   "cell_type": "markdown",
   "metadata": {},
   "source": [
    "1.Design a MongoDB schema for an \"Employee\" collection with the following fields:\n",
    "a. EmployeeID\n",
    "b. FirstName\n",
    "c. LastName\n",
    "d. Age\n",
    "e. Department\n",
    "f. Salary"
   ]
  },
  {
   "cell_type": "code",
   "execution_count": 4,
   "metadata": {},
   "outputs": [
    {
     "name": "stdout",
     "output_type": "stream",
     "text": [
      "Inserted document with ID: 655b00ce76897b59e22be129\n"
     ]
    }
   ],
   "source": [
    "employee_data = {\n",
    "    \"EmployeeID\": 1,\n",
    "    \"FirstName\": \"John\",\n",
    "    \"LastName\": \"Doe\",\n",
    "    \"Age\": 30,\n",
    "    \"Department\": \"IT\",\n",
    "    \"Salary\": 60000\n",
    "}\n",
    "\n",
    "result = collection.insert_one(employee_data)\n",
    "print(f\"Inserted document with ID: {result.inserted_id}\")\n"
   ]
  },
  {
   "cell_type": "markdown",
   "metadata": {},
   "source": [
    "2.Insert the following employee data into the collection."
   ]
  },
  {
   "cell_type": "code",
   "execution_count": 5,
   "metadata": {},
   "outputs": [
    {
     "name": "stdout",
     "output_type": "stream",
     "text": [
      "Inserted document IDs: [ObjectId('655b019c76897b59e22be12a'), ObjectId('655b019c76897b59e22be12b'), ObjectId('655b019c76897b59e22be12c'), ObjectId('655b019c76897b59e22be12d'), ObjectId('655b019c76897b59e22be12e')]\n"
     ]
    }
   ],
   "source": [
    "\n",
    "employee_data = [\n",
    "    {\n",
    "        \"EmployeeID\": 121,\n",
    "        \"FirstName\": \"Emma\",\n",
    "        \"LastName\": \"Johnson\",\n",
    "        \"Age\": 30,\n",
    "        \"Department\": \"Human Resources\",\n",
    "        \"Salary\": 50000\n",
    "    },\n",
    "    {\n",
    "        \"EmployeeID\": 134,\n",
    "        \"FirstName\": \"David\",\n",
    "        \"LastName\": \"Smith\",\n",
    "        \"Age\": 34,\n",
    "        \"Department\": \"Marketing\",\n",
    "        \"Salary\": 55000\n",
    "    },\n",
    "    {\n",
    "        \"EmployeeID\": 145,\n",
    "        \"FirstName\": \"Mia\",\n",
    "        \"LastName\": \"Davis\",\n",
    "        \"Age\": 28,\n",
    "        \"Department\": \"Information Tech\",\n",
    "        \"Salary\": 62000\n",
    "    },\n",
    "    {\n",
    "        \"EmployeeID\": 167,\n",
    "        \"FirstName\": \"Lucas\",\n",
    "        \"LastName\": \"Brown\",\n",
    "        \"Age\": 40,\n",
    "        \"Department\": \"Sales\",\n",
    "        \"Salary\": 48000\n",
    "    },\n",
    "    {\n",
    "        \"EmployeeID\": 153,\n",
    "        \"FirstName\": \"Sophia\",\n",
    "        \"LastName\": \"Wilson\",\n",
    "        \"Age\": 33,\n",
    "        \"Department\": \"Research\",\n",
    "        \"Salary\": 53000\n",
    "    }\n",
    "]\n",
    "\n",
    "# Inserting multiple documents at once\n",
    "result = collection.insert_many(employee_data)\n",
    "\n",
    "# Print the inserted document IDs\n",
    "print(f\"Inserted document IDs: {result.inserted_ids}\")\n"
   ]
  },
  {
   "cell_type": "markdown",
   "metadata": {},
   "source": [
    "3.Write a MongoDB query to find all employees"
   ]
  },
  {
   "cell_type": "code",
   "execution_count": 6,
   "metadata": {},
   "outputs": [
    {
     "name": "stdout",
     "output_type": "stream",
     "text": [
      "{'_id': ObjectId('6548eeaa087e94747106aafa'), 'RollNum': 43, 'FirstName': 'John', 'LastName': 'Doe', 'Age': 21, 'Department': 'Computer Science', 'Mark': 83}\n",
      "{'_id': ObjectId('6548eeaa087e94747106aafc'), 'RollNum': 23, 'FirstName': 'Bob', 'LastName': 'Johnson', 'Age': 22, 'Department': 'Computer Science', 'Mark': 86}\n",
      "{'_id': ObjectId('6548eeaa087e94747106aafe'), 'RollNum': 84, 'FirstName': 'Mike', 'LastName': 'Brown', 'Age': 24, 'Department': 'Physical Science', 'Mark': 92}\n",
      "{'_id': ObjectId('655b00ce76897b59e22be129'), 'EmployeeID': 1, 'FirstName': 'John', 'LastName': 'Doe', 'Age': 30, 'Department': 'IT', 'Salary': 60000}\n",
      "{'_id': ObjectId('655b019c76897b59e22be12a'), 'EmployeeID': 121, 'FirstName': 'Emma', 'LastName': 'Johnson', 'Age': 30, 'Department': 'Human Resources', 'Salary': 50000}\n",
      "{'_id': ObjectId('655b019c76897b59e22be12b'), 'EmployeeID': 134, 'FirstName': 'David', 'LastName': 'Smith', 'Age': 34, 'Department': 'Marketing', 'Salary': 55000}\n",
      "{'_id': ObjectId('655b019c76897b59e22be12c'), 'EmployeeID': 145, 'FirstName': 'Mia', 'LastName': 'Davis', 'Age': 28, 'Department': 'Information Tech', 'Salary': 62000}\n",
      "{'_id': ObjectId('655b019c76897b59e22be12d'), 'EmployeeID': 167, 'FirstName': 'Lucas', 'LastName': 'Brown', 'Age': 40, 'Department': 'Sales', 'Salary': 48000}\n",
      "{'_id': ObjectId('655b019c76897b59e22be12e'), 'EmployeeID': 153, 'FirstName': 'Sophia', 'LastName': 'Wilson', 'Age': 33, 'Department': 'Research', 'Salary': 53000}\n"
     ]
    }
   ],
   "source": [
    "\n",
    "all_employees = collection.find()\n",
    "for employee in all_employees:\n",
    "    print(employee)"
   ]
  },
  {
   "cell_type": "markdown",
   "metadata": {},
   "source": [
    "4.Write a MongoDB query to find all employees in the \"Marketing\" department"
   ]
  },
  {
   "cell_type": "code",
   "execution_count": 7,
   "metadata": {},
   "outputs": [
    {
     "name": "stdout",
     "output_type": "stream",
     "text": [
      "{'_id': ObjectId('655b019c76897b59e22be12b'), 'EmployeeID': 134, 'FirstName': 'David', 'LastName': 'Smith', 'Age': 34, 'Department': 'Marketing', 'Salary': 55000}\n"
     ]
    }
   ],
   "source": [
    "\n",
    "marketing_employees = collection.find({\"Department\": \"Marketing\"})\n",
    "for employee in marketing_employees:\n",
    "    print(employee)"
   ]
  },
  {
   "cell_type": "markdown",
   "metadata": {},
   "source": [
    "5.Write a MongoDB query to find all employees whose age is greater than or equal to\n",
    "30."
   ]
  },
  {
   "cell_type": "code",
   "execution_count": 8,
   "metadata": {},
   "outputs": [
    {
     "name": "stdout",
     "output_type": "stream",
     "text": [
      "{'_id': ObjectId('655b00ce76897b59e22be129'), 'EmployeeID': 1, 'FirstName': 'John', 'LastName': 'Doe', 'Age': 30, 'Department': 'IT', 'Salary': 60000}\n",
      "{'_id': ObjectId('655b019c76897b59e22be12a'), 'EmployeeID': 121, 'FirstName': 'Emma', 'LastName': 'Johnson', 'Age': 30, 'Department': 'Human Resources', 'Salary': 50000}\n",
      "{'_id': ObjectId('655b019c76897b59e22be12b'), 'EmployeeID': 134, 'FirstName': 'David', 'LastName': 'Smith', 'Age': 34, 'Department': 'Marketing', 'Salary': 55000}\n",
      "{'_id': ObjectId('655b019c76897b59e22be12d'), 'EmployeeID': 167, 'FirstName': 'Lucas', 'LastName': 'Brown', 'Age': 40, 'Department': 'Sales', 'Salary': 48000}\n",
      "{'_id': ObjectId('655b019c76897b59e22be12e'), 'EmployeeID': 153, 'FirstName': 'Sophia', 'LastName': 'Wilson', 'Age': 33, 'Department': 'Research', 'Salary': 53000}\n"
     ]
    }
   ],
   "source": [
    "\n",
    "employees_above_30 = collection.find({\"Age\": {\"$gte\": 30}})\n",
    "for employee in employees_above_30:\n",
    "    print(employee)"
   ]
  },
  {
   "cell_type": "markdown",
   "metadata": {},
   "source": [
    "6.Write a MongoDB query to find all employees whose salary is less than 50000.\n"
   ]
  },
  {
   "cell_type": "code",
   "execution_count": 9,
   "metadata": {},
   "outputs": [
    {
     "name": "stdout",
     "output_type": "stream",
     "text": [
      "{'_id': ObjectId('655b019c76897b59e22be12d'), 'EmployeeID': 167, 'FirstName': 'Lucas', 'LastName': 'Brown', 'Age': 40, 'Department': 'Sales', 'Salary': 48000}\n"
     ]
    }
   ],
   "source": [
    "employees_below_50000 = collection.find({\"Salary\": {\"$lt\": 50000}})\n",
    "for employee in employees_below_50000:\n",
    "    print(employee)"
   ]
  },
  {
   "cell_type": "markdown",
   "metadata": {},
   "source": [
    "7.Write a MongoDB query to show the first name and salary of all employees in the\n",
    "\"Information Tech\" department.\n"
   ]
  },
  {
   "cell_type": "code",
   "execution_count": 10,
   "metadata": {},
   "outputs": [
    {
     "name": "stdout",
     "output_type": "stream",
     "text": [
      "{'FirstName': 'Mia', 'Salary': 62000}\n"
     ]
    }
   ],
   "source": [
    "it_department_employees = collection.find(\n",
    "    {\"Department\": \"Information Tech\"},\n",
    "    {\"FirstName\": 1, \"Salary\": 1, \"_id\": 0}\n",
    ")\n",
    "for employee in it_department_employees:\n",
    "    print(employee)"
   ]
  },
  {
   "cell_type": "markdown",
   "metadata": {},
   "source": [
    "8.Write a MongoDB query to find all employees in descending order of salary."
   ]
  },
  {
   "cell_type": "code",
   "execution_count": 11,
   "metadata": {},
   "outputs": [
    {
     "name": "stdout",
     "output_type": "stream",
     "text": [
      "{'_id': ObjectId('655b019c76897b59e22be12c'), 'EmployeeID': 145, 'FirstName': 'Mia', 'LastName': 'Davis', 'Age': 28, 'Department': 'Information Tech', 'Salary': 62000}\n",
      "{'_id': ObjectId('655b00ce76897b59e22be129'), 'EmployeeID': 1, 'FirstName': 'John', 'LastName': 'Doe', 'Age': 30, 'Department': 'IT', 'Salary': 60000}\n",
      "{'_id': ObjectId('655b019c76897b59e22be12b'), 'EmployeeID': 134, 'FirstName': 'David', 'LastName': 'Smith', 'Age': 34, 'Department': 'Marketing', 'Salary': 55000}\n",
      "{'_id': ObjectId('655b019c76897b59e22be12e'), 'EmployeeID': 153, 'FirstName': 'Sophia', 'LastName': 'Wilson', 'Age': 33, 'Department': 'Research', 'Salary': 53000}\n",
      "{'_id': ObjectId('655b019c76897b59e22be12a'), 'EmployeeID': 121, 'FirstName': 'Emma', 'LastName': 'Johnson', 'Age': 30, 'Department': 'Human Resources', 'Salary': 50000}\n",
      "{'_id': ObjectId('655b019c76897b59e22be12d'), 'EmployeeID': 167, 'FirstName': 'Lucas', 'LastName': 'Brown', 'Age': 40, 'Department': 'Sales', 'Salary': 48000}\n",
      "{'_id': ObjectId('6548eeaa087e94747106aafa'), 'RollNum': 43, 'FirstName': 'John', 'LastName': 'Doe', 'Age': 21, 'Department': 'Computer Science', 'Mark': 83}\n",
      "{'_id': ObjectId('6548eeaa087e94747106aafc'), 'RollNum': 23, 'FirstName': 'Bob', 'LastName': 'Johnson', 'Age': 22, 'Department': 'Computer Science', 'Mark': 86}\n",
      "{'_id': ObjectId('6548eeaa087e94747106aafe'), 'RollNum': 84, 'FirstName': 'Mike', 'LastName': 'Brown', 'Age': 24, 'Department': 'Physical Science', 'Mark': 92}\n"
     ]
    }
   ],
   "source": [
    "employees_sorted_by_salary = collection.find().sort(\"Salary\", pymongo.DESCENDING)\n",
    "for employee in employees_sorted_by_salary:\n",
    "    print(employee)"
   ]
  },
  {
   "cell_type": "markdown",
   "metadata": {},
   "source": [
    "9.Write a MongoDB query to find the oldest employee."
   ]
  },
  {
   "cell_type": "code",
   "execution_count": 12,
   "metadata": {},
   "outputs": [
    {
     "name": "stdout",
     "output_type": "stream",
     "text": [
      "{'_id': ObjectId('655b019c76897b59e22be12d'), 'EmployeeID': 167, 'FirstName': 'Lucas', 'LastName': 'Brown', 'Age': 40, 'Department': 'Sales', 'Salary': 48000}\n"
     ]
    }
   ],
   "source": [
    "oldest_employee = collection.find().sort(\"Age\", pymongo.DESCENDING).limit(1)\n",
    "for employee in oldest_employee:\n",
    "    print(employee)"
   ]
  },
  {
   "cell_type": "markdown",
   "metadata": {},
   "source": [
    "10.Write a MongoDB query to find all employees in the \"Sales\" department whose\n",
    "EmployeeID is greater than or equal to 150."
   ]
  },
  {
   "cell_type": "code",
   "execution_count": 13,
   "metadata": {},
   "outputs": [
    {
     "name": "stdout",
     "output_type": "stream",
     "text": [
      "{'_id': ObjectId('655b019c76897b59e22be12d'), 'EmployeeID': 167, 'FirstName': 'Lucas', 'LastName': 'Brown', 'Age': 40, 'Department': 'Sales', 'Salary': 48000}\n"
     ]
    }
   ],
   "source": [
    "sales_employees = collection.find(\n",
    "    {\"Department\": \"Sales\", \"EmployeeID\": {\"$gte\": 150}}\n",
    ")\n",
    "for employee in sales_employees:\n",
    "    print(employee)"
   ]
  }
 ],
 "metadata": {
  "kernelspec": {
   "display_name": "Python 3",
   "language": "python",
   "name": "python3"
  },
  "language_info": {
   "codemirror_mode": {
    "name": "ipython",
    "version": 3
   },
   "file_extension": ".py",
   "mimetype": "text/x-python",
   "name": "python",
   "nbconvert_exporter": "python",
   "pygments_lexer": "ipython3",
   "version": "3.12.0"
  }
 },
 "nbformat": 4,
 "nbformat_minor": 2
}
